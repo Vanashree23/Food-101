{
  "nbformat": 4,
  "nbformat_minor": 0,
  "metadata": {
    "colab": {
      "provenance": []
    },
    "kernelspec": {
      "name": "python3",
      "display_name": "Python 3"
    },
    "language_info": {
      "name": "python"
    }
  },
  "cells": [
    {
      "cell_type": "code",
      "execution_count": 1,
      "metadata": {
        "colab": {
          "base_uri": "https://localhost:8080/",
          "height": 436
        },
        "id": "RheafspdVtjr",
        "outputId": "61b656e5-6ad0-44d8-ff31-97d9a1872798"
      },
      "outputs": [
        {
          "name": "stdout",
          "output_type": "stream",
          "text": [
            "Enter the dimensions of the matrices (rows and columns):\n",
            "Enter the number of rows for array1: 2\n",
            "Enter the number of columns for array1: 2\n",
            "Enter the elements of array1 row by row:\n",
            "Enter row 1 of array1 (space-separated): 1 2\n",
            "Enter row 2 of array1 (space-separated): 1 3\n",
            "Enter the number of rows for array2: 2 \n",
            "Enter the number of columns for array2: 2 5\n"
          ]
        },
        {
          "output_type": "error",
          "ename": "ValueError",
          "evalue": "invalid literal for int() with base 10: '2 5'",
          "traceback": [
            "\u001b[0;31m---------------------------------------------------------------------------\u001b[0m",
            "\u001b[0;31mValueError\u001b[0m                                Traceback (most recent call last)",
            "\u001b[0;32m<ipython-input-1-a413756f3593>\u001b[0m in \u001b[0;36m<cell line: 68>\u001b[0;34m()\u001b[0m\n\u001b[1;32m     66\u001b[0m \u001b[0;34m\u001b[0m\u001b[0m\n\u001b[1;32m     67\u001b[0m \u001b[0;31m# Run the function to get input and perform the matrix operation\u001b[0m\u001b[0;34m\u001b[0m\u001b[0;34m\u001b[0m\u001b[0m\n\u001b[0;32m---> 68\u001b[0;31m \u001b[0mget_input_and_perform_operation\u001b[0m\u001b[0;34m(\u001b[0m\u001b[0;34m)\u001b[0m\u001b[0;34m\u001b[0m\u001b[0;34m\u001b[0m\u001b[0m\n\u001b[0m",
            "\u001b[0;32m<ipython-input-1-a413756f3593>\u001b[0m in \u001b[0;36mget_input_and_perform_operation\u001b[0;34m()\u001b[0m\n\u001b[1;32m     46\u001b[0m     \u001b[0;31m# Input for array2\u001b[0m\u001b[0;34m\u001b[0m\u001b[0;34m\u001b[0m\u001b[0m\n\u001b[1;32m     47\u001b[0m     \u001b[0mrows2\u001b[0m \u001b[0;34m=\u001b[0m \u001b[0mint\u001b[0m\u001b[0;34m(\u001b[0m\u001b[0minput\u001b[0m\u001b[0;34m(\u001b[0m\u001b[0;34m\"Enter the number of rows for array2: \"\u001b[0m\u001b[0;34m)\u001b[0m\u001b[0;34m)\u001b[0m\u001b[0;34m\u001b[0m\u001b[0;34m\u001b[0m\u001b[0m\n\u001b[0;32m---> 48\u001b[0;31m     \u001b[0mcols2\u001b[0m \u001b[0;34m=\u001b[0m \u001b[0mint\u001b[0m\u001b[0;34m(\u001b[0m\u001b[0minput\u001b[0m\u001b[0;34m(\u001b[0m\u001b[0;34m\"Enter the number of columns for array2: \"\u001b[0m\u001b[0;34m)\u001b[0m\u001b[0;34m)\u001b[0m\u001b[0;34m\u001b[0m\u001b[0;34m\u001b[0m\u001b[0m\n\u001b[0m\u001b[1;32m     49\u001b[0m     \u001b[0mprint\u001b[0m\u001b[0;34m(\u001b[0m\u001b[0;34m\"Enter the elements of array2 row by row:\"\u001b[0m\u001b[0;34m)\u001b[0m\u001b[0;34m\u001b[0m\u001b[0;34m\u001b[0m\u001b[0m\n\u001b[1;32m     50\u001b[0m \u001b[0;34m\u001b[0m\u001b[0m\n",
            "\u001b[0;31mValueError\u001b[0m: invalid literal for int() with base 10: '2 5'"
          ]
        }
      ],
      "source": [
        "import numpy as np\n",
        "\n",
        "def matrix_operation(array1, array2, operation):\n",
        "    try:\n",
        "        # Perform the dot product\n",
        "        if operation == \"dot\":\n",
        "            return np.dot(array1, array2)\n",
        "\n",
        "        # Perform matrix multiplication\n",
        "        elif operation == \"matrix\":\n",
        "            return np.matmul(array1, array2)\n",
        "\n",
        "        elif operation == \"determinant\":\n",
        "            # Check if both arrays are square matrices\n",
        "            if array1.shape[0] != array1.shape[1]:\n",
        "                return \"Error: array1 is not a square matrix, cannot compute determinant.\"\n",
        "            if array2.shape[0] != array2.shape[1]:\n",
        "                return \"Error: array2 is not a square matrix, cannot compute determinant.\"\n",
        "\n",
        "            det1 = np.linalg.det(array1)\n",
        "            det2 = np.linalg.det(array2)\n",
        "            return (det1, det2)\n",
        "        else:\n",
        "            return \"Error: Invalid operation.\"\n",
        "\n",
        "    except Exception as e:\n",
        "        return f\"Error: {str(e)}\"\n",
        "\n",
        "def get_input_and_perform_operation():\n",
        "    print(\"Enter the dimensions of the matrices (rows and columns):\")\n",
        "\n",
        "    # Input for array1\n",
        "    rows1 = int(input(\"Enter the number of rows for array1: \"))\n",
        "    cols1 = int(input(\"Enter the number of columns for array1: \"))\n",
        "    print(\"Enter the elements of array1 row by row:\")\n",
        "\n",
        "    array1 = []\n",
        "    for i in range(rows1):\n",
        "        row = list(map(float, input(f\"Enter row {i+1} of array1 (space-separated): \").split()))\n",
        "        array1.append(row)\n",
        "\n",
        "    # Input for array2\n",
        "    rows2 = int(input(\"Enter the number of rows for array2: \"))\n",
        "    cols2 = int(input(\"Enter the number of columns for array2: \"))\n",
        "    print(\"Enter the elements of array2 row by row:\")\n",
        "\n",
        "    array2 = []\n",
        "    for i in range(rows2):\n",
        "        row = list(map(float, input(f\"Enter row {i+1} of array2 (space-separated): \").split()))\n",
        "        array2.append(row)\n",
        "\n",
        "    # Convert arrays to NumPy arrays\n",
        "    array1 = np.array(array1)\n",
        "    array2 = np.array(array2)\n",
        "\n",
        "    # Ask user for the operation\n",
        "    operation = input(\"Enter the operation to perform ('dot', 'matrix', 'determinant'): \").strip().lower()\n",
        "\n",
        "    # Perform the operation and print the result\n",
        "    result = matrix_operation(array1, array2, operation)\n",
        "    print(\"Result:\", result)\n",
        "\n",
        "# Run the function to get input and perform the matrix operation\n",
        "get_input_and_perform_operation()\n"
      ]
    }
  ]
}