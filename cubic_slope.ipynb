{
  "nbformat": 4,
  "nbformat_minor": 0,
  "metadata": {
    "colab": {
      "provenance": []
    },
    "kernelspec": {
      "name": "python3",
      "display_name": "Python 3"
    },
    "language_info": {
      "name": "python"
    }
  },
  "cells": [
    {
      "cell_type": "code",
      "execution_count": 1,
      "metadata": {
        "colab": {
          "base_uri": "https://localhost:8080/"
        },
        "id": "5uHw_BWc02Oy",
        "outputId": "80ebc05b-2f33-4e28-d6f9-c886205e9f86"
      },
      "outputs": [
        {
          "output_type": "stream",
          "name": "stdout",
          "text": [
            "Enter the coefficients of the cubic polynomial ax^3 + bx^2 + cx + d:\n",
            "Enter the coefficient for x^3 (a): 4\n",
            "Enter the coefficient for x^2 (b): 5\n",
            "Enter the coefficient for x (c): 6\n",
            "Enter the constant term (d): 2\n",
            "Enter the value of x at which the slope is to be calculated: 1\n",
            "The slope of the cubic polynomial at x = 1.0 is: 28.0\n"
          ]
        }
      ],
      "source": [
        "#Write a Python function named slope_of_cubic that calculates the slope of a cubic polynomial\n",
        "#based on user input. The function should:\n",
        "#1. Accepts two arguments:\n",
        "#● A tuple containing 4 real numbers which are the coefficients of the cubic term,\n",
        "#quadratic term, linear term, and constant term respectively.\n",
        "#● A real number which is the value of x at which the slope has to be calculated.\n",
        "#2. Returns the slope of the cubic polynomial at the given value of x.\n",
        "#function define\n",
        "def slope_of_cubic(coefficients, x):\n",
        "    a, b, c, d = coefficients\n",
        "\n",
        "    # Calculate the derivative of the cubic polynomial: f'(x) = 3ax^2 + 2bx + c\n",
        "    slope = 3 * a * x**2 + 2 * b * x + c\n",
        "\n",
        "    return slope\n",
        "\n",
        "def get_input_and_calculate():\n",
        "    print(\"Enter the coefficients of the cubic polynomial ax^3 + bx^2 + cx + d:\")\n",
        "\n",
        "    a = int(input(\"Enter the coefficient for x^3 (a): \"))\n",
        "    b = int(input(\"Enter the coefficient for x^2 (b): \"))\n",
        "    c = int(input(\"Enter the coefficient for x (c): \"))\n",
        "    d = int(input(\"Enter the constant term (d): \"))\n",
        "\n",
        "    x = int(input(\"Enter the value of x at which the slope is to be calculated: \"))\n",
        "#coefficients are given in tuple\n",
        "    coefficients = (a, b, c, d)\n",
        "\n",
        "    # function call\n",
        "    slope = slope_of_cubic(coefficients, x)\n",
        "    print(f\"The slope of the cubic polynomial at x = {x} is: {slope}\")\n",
        "\n",
        "# Run the function to get input and calculate the slope\n",
        "get_input_and_calculate()\n"
      ]
    }
  ]
}